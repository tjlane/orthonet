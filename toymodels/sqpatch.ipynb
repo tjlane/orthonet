{
 "cells": [
  {
   "cell_type": "markdown",
   "metadata": {},
   "source": [
    "We will make a simple toy space that has a few non-trivial features. Specifically, we will place an object $h$ (just a square patch of size $[-a, a] \\times [-a, a]$) with intensity $I$ centered at position $(r, \\theta)$ where\n",
    "\\begin{align}\n",
    "%\n",
    "    \\theta &\\sim \\mathrm{Unif}[0, 2 \\pi] \\\\\n",
    "    r &\\sim \\mathcal{N}( \\mu, \\sigma^2 ) \\\\\n",
    "    I &\\sim \\mathrm{Cat}(K, p)\n",
    "%\n",
    "\\end{align}\n",
    "to start $K = [1, 2]$ and $p = [0.5, 0.5]$, ie the square has a 50/50 chance of being \"bright\" or \"dim\".\n",
    "\n",
    "Then we also optionally add some white Gaussian noise $\\mathcal{N}(0, \\epsilon^2)$ to every pixel in the receptive field."
   ]
  },
  {
   "cell_type": "code",
   "execution_count": 1,
   "metadata": {},
   "outputs": [],
   "source": [
    "import numpy as np\n",
    "from matplotlib import pyplot as plt\n",
    "import h5py"
   ]
  },
  {
   "cell_type": "code",
   "execution_count": 15,
   "metadata": {},
   "outputs": [],
   "source": [
    "# model parameters\n",
    "\n",
    "field_shape = (32+1, 32+1)\n",
    "n_samples   = 25000\n",
    "\n",
    "a       = 1 # box size\n",
    "mu      = 9.0\n",
    "sigma   = 0.0 #2.5\n",
    "K       = np.array([1,1])  # np.array([1, 2])\n",
    "p       = np.ones(len(K)) / float(len(K))\n",
    "epsilon = 0.0"
   ]
  },
  {
   "cell_type": "code",
   "execution_count": 18,
   "metadata": {},
   "outputs": [],
   "source": [
    "# generate some images\n",
    "\n",
    "data = np.zeros((n_samples,) + field_shape)\n",
    "\n",
    "for s in range(n_samples):\n",
    "    \n",
    "    # draw from our distributions\n",
    "    theta = np.random.uniform(0, 2.0*np.pi * 2)\n",
    "    r     = np.random.randn(1)[0] * sigma + mu * theta / 10.0\n",
    "    I     = np.random.choice(K, p=p)\n",
    "    \n",
    "    # compute the center pixel of the patch\n",
    "    c = r * np.array([np.cos(theta), np.sin(theta)]) + (np.array(field_shape)+1)/2\n",
    "    c = c.astype(np.int)\n",
    "    \n",
    "    # add the patch\n",
    "    data[s,c[0]-a:c[0]+a,c[1]-a:c[1]+a] = I\n",
    "    \n",
    "    # add noise\n",
    "    data[s] += epsilon * np.random.randn(*field_shape)"
   ]
  },
  {
   "cell_type": "code",
   "execution_count": 19,
   "metadata": {},
   "outputs": [
    {
     "data": {
      "image/png": "[encoded data removed]",
      "text/plain": [
       "<Figure size 432x288 with 2 Axes>"
      ]
     },
     "metadata": {
      "needs_background": "light"
     },
     "output_type": "display_data"
    }
   ],
   "source": [
    "plt.figure()\n",
    "plt.subplot(121)\n",
    "plt.imshow(data[0])\n",
    "plt.subplot(122)\n",
    "plt.imshow(data.mean(0).T)\n",
    "plt.show()"
   ]
  },
  {
   "cell_type": "code",
   "execution_count": 20,
   "metadata": {},
   "outputs": [],
   "source": [
    "# save the simulation as an HDF5 image stack\n",
    "# put the parameters inside for safe keeping :)\n",
    "\n",
    "#f = h5py.File('circle_sim_1.h5', 'w')\n",
    "f = h5py.File('spiral_sim_1.h5', 'w')\n",
    "f['data'] = data\n",
    "f['params/a']       = a\n",
    "f['params/mu']      = mu\n",
    "f['params/sigma']   = sigma\n",
    "f['params/K']       = K\n",
    "f['params/p']       = p\n",
    "f['params/epsilon'] = epsilon\n",
    "f.close()"
   ]
  },
  {
   "cell_type": "markdown",
   "metadata": {},
   "source": [
    "For a second toy model, we break the orthogonality of $r$ and $\\theta$ by introducing a dependency,\n",
    "\\begin{align}\n",
    "%\n",
    "    \\theta &\\sim \\mathrm{Unif}[0, 2 \\pi] \\\\\n",
    "    r &\\sim \\mathcal{N}( \\mu \\sqrt{ \\cos^2 \\theta + \\frac{1}{2} \\sin^2 \\theta}, \\sigma^2 ) \\\\\n",
    "    I &\\sim \\mathrm{Cat}(K, p)\n",
    "%\n",
    "\\end{align}\n",
    "Now, the radius changes as a function of the angle. This means that the resulting distribution of the cube is elliptical. "
   ]
  },
  {
   "cell_type": "code",
   "execution_count": 112,
   "metadata": {},
   "outputs": [],
   "source": [
    "# model parameters are the same as before"
   ]
  },
  {
   "cell_type": "code",
   "execution_count": 113,
   "metadata": {},
   "outputs": [],
   "source": [
    "# generate some images\n",
    "\n",
    "data = np.zeros((n_samples,) + field_shape)\n",
    "\n",
    "for s in range(n_samples):\n",
    "    \n",
    "    # draw from our distributions\n",
    "    theta = np.random.uniform(0, 2.0*np.pi)\n",
    "    mu_s  = mu * np.sqrt(np.cos(theta)**2 + 0.5 * np.sin(theta)**2)\n",
    "    r     = np.random.randn(1)[0] * sigma + mu_s\n",
    "    I     = np.random.choice(K, p=p)\n",
    "    \n",
    "    # compute the center pixel of the patch\n",
    "    c = r * np.array([np.cos(theta), np.sin(theta)]) + (np.array(field_shape)+1)/2\n",
    "    c = c.astype(np.int)\n",
    "    \n",
    "    # add the patch\n",
    "    data[s,c[0]-a:c[0]+a,c[1]-a:c[1]+a] = I\n",
    "    \n",
    "    # add noise\n",
    "    data[s] += epsilon * np.random.randn(*field_shape)"
   ]
  },
  {
   "cell_type": "code",
   "execution_count": 114,
   "metadata": {},
   "outputs": [
    {
     "data": {
      "image/png": "[encoded data removed]",
      "text/plain": [
       "<Figure size 432x288 with 2 Axes>"
      ]
     },
     "metadata": {
      "needs_background": "light"
     },
     "output_type": "display_data"
    }
   ],
   "source": [
    "plt.figure()\n",
    "plt.subplot(121)\n",
    "plt.imshow(data[0])\n",
    "plt.subplot(122)\n",
    "plt.imshow(data.mean(0).T)\n",
    "plt.show()"
   ]
  },
  {
   "cell_type": "code",
   "execution_count": 115,
   "metadata": {},
   "outputs": [],
   "source": [
    "# save the simulation as an HDF5 image stack\n",
    "# put the parameters inside for safe keeping :)\n",
    "\n",
    "f = h5py.File('ellipse_sim_1.h5', 'w')\n",
    "f['data'] = data\n",
    "f['params/a']       = a\n",
    "f['params/mu']      = mu\n",
    "f['params/sigma']   = sigma\n",
    "f['params/K']       = K\n",
    "f['params/p']       = p\n",
    "f['params/epsilon'] = epsilon\n",
    "f.close()"
   ]
  },
  {
   "cell_type": "code",
   "execution_count": null,
   "metadata": {},
   "outputs": [],
   "source": []
  }
 ],
 "metadata": {
  "kernelspec": {
   "display_name": "Python 3",
   "language": "python",
   "name": "python3"
  },
  "language_info": {
   "codemirror_mode": {
    "name": "ipython",
    "version": 3
   },
   "file_extension": ".py",
   "mimetype": "text/x-python",
   "name": "python",
   "nbconvert_exporter": "python",
   "pygments_lexer": "ipython3",
   "version": "3.7.3"
  }
 },
 "nbformat": 4,
 "nbformat_minor": 2
}
