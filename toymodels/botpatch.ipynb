{
 "cells": [
  {
   "cell_type": "markdown",
   "metadata": {},
   "source": [
    "This example is similar to the square-patch example, but the object has lower symmetry. This is important because for the square patch, a rotation can also be described as a translation. For a more complex object (without rotational symmetry), this equivalence does not hold.\n",
    "\n",
    "We will make a simple toy space that has a few non-trivial features. We place an object (\"F\") with intensity $I$ centered at position $(r, \\theta)$ where\n",
    "\\begin{align}\n",
    "%\n",
    "    \\theta &\\sim \\mathrm{Unif}[0, 2 \\pi] \\\\\n",
    "    r &\\sim \\mathcal{N}( \\mu, \\sigma^2 ) \\\\\n",
    "    I &\\sim \\mathrm{Cat}(K, p)\n",
    "%\n",
    "\\end{align}\n",
    "to start $K = [1, 2]$ and $p = [0.5, 0.5]$, ie the square has a 50/50 chance of being \"bright\" or \"dim\".\n",
    "\n",
    "Then we also optionally add some white Gaussian noise $\\mathcal{N}(0, \\epsilon^2)$ to every pixel in the receptive field."
   ]
  },
  {
   "cell_type": "code",
   "execution_count": 1,
   "metadata": {},
   "outputs": [],
   "source": [
    "import numpy as np\n",
    "import h5py\n",
    "from scipy import ndimage\n",
    "from matplotlib import pyplot as plt"
   ]
  },
  {
   "cell_type": "code",
   "execution_count": 17,
   "metadata": {},
   "outputs": [],
   "source": [
    "# model parameters\n",
    "\n",
    "field_shape = (32+1, 32+1)\n",
    "n_samples   = 24800\n",
    "\n",
    "a       = 1 # box size\n",
    "mu      = 0.0\n",
    "sigma   = 2.0\n",
    "K       = np.array([1,1])  # np.array([1, 2])\n",
    "p       = np.ones(len(K)) / float(len(K))\n",
    "epsilon = 0.5"
   ]
  },
  {
   "cell_type": "code",
   "execution_count": 18,
   "metadata": {},
   "outputs": [
    {
     "data": {
      "image/png": "[encoded data removed]",
      "text/plain": [
       "<Figure size 432x288 with 1 Axes>"
      ]
     },
     "metadata": {
      "needs_background": "light"
     },
     "output_type": "display_data"
    }
   ],
   "source": [
    "# make the \"falsum\" object\n",
    "\n",
    "base_object = np.zeros(field_shape)\n",
    "\n",
    "base_object[0:8,4:6] = 1 # middle vertical stroke\n",
    "base_object[6:8,0:10] = 1 # bottom horizontal stroke\n",
    "#base_object[4:8,8:10] = 1 # right vertical stroke\n",
    "\n",
    "base_object = np.roll(base_object, 6, axis=0)\n",
    "base_object = np.roll(base_object, 12, axis=1)\n",
    "\n",
    "plt.figure()\n",
    "plt.imshow(base_object)\n",
    "plt.show()"
   ]
  },
  {
   "cell_type": "code",
   "execution_count": 19,
   "metadata": {},
   "outputs": [
    {
     "data": {
      "image/png": "[encoded data removed]",
      "text/plain": [
       "<Figure size 432x288 with 1 Axes>"
      ]
     },
     "metadata": {
      "needs_background": "light"
     },
     "output_type": "display_data"
    }
   ],
   "source": [
    "def rototrans(image, r, theta):\n",
    "    \"\"\"\n",
    "    1. Translate image by `r` vertically, \n",
    "    2. Rotate by `theta` around center of the image\n",
    "    3. Clamp image output to [0,1]\n",
    "    \"\"\"\n",
    "    rt_image = ndimage.shift(image, (r,0)) # shift axis 0\n",
    "    rt_image = ndimage.rotate(rt_image, np.degrees(theta), \n",
    "                              order=5, reshape=False)\n",
    "    rt_image[rt_image < 0.0] = 0.0\n",
    "    rt_image[rt_image > 1.0] = 1.0\n",
    "    return rt_image\n",
    "\n",
    "rt = rototrans(base_object, -2.5, np.random.rand()*2.0*np.pi)\n",
    "\n",
    "plt.figure()\n",
    "plt.imshow(rt)\n",
    "plt.show()"
   ]
  },
  {
   "cell_type": "code",
   "execution_count": 20,
   "metadata": {},
   "outputs": [],
   "source": [
    "# generate some images\n",
    "\n",
    "data = np.zeros((n_samples,) + field_shape)\n",
    "\n",
    "rs     = []\n",
    "thetas = []\n",
    "Is     = []\n",
    "\n",
    "for s in range(n_samples):\n",
    "    \n",
    "    # draw from our distributions\n",
    "    r     = np.random.randn(1)[0] * sigma + mu\n",
    "    #theta = np.random.uniform(0, 2.0*np.pi)\n",
    "    theta = np.random.uniform(0, 1.5*np.pi)\n",
    "    I     = np.random.choice(K, p=p)\n",
    "    \n",
    "    rs.append(r)\n",
    "    thetas.append(theta)\n",
    "    Is.append(I)\n",
    "    \n",
    "    # compute the center pixel of the patch\n",
    "    data[s] = rototrans(base_object * I, r, theta)\n",
    "    \n",
    "    # add noise\n",
    "    data[s] += epsilon * np.random.randn(*field_shape)"
   ]
  },
  {
   "cell_type": "code",
   "execution_count": 21,
   "metadata": {},
   "outputs": [
    {
     "data": {
      "image/png": "[encoded data removed]",
      "text/plain": [
       "<Figure size 432x288 with 2 Axes>"
      ]
     },
     "metadata": {
      "needs_background": "light"
     },
     "output_type": "display_data"
    }
   ],
   "source": [
    "plt.figure()\n",
    "plt.subplot(121)\n",
    "plt.imshow(data[np.random.randint(0,n_samples)].T)\n",
    "plt.subplot(122)\n",
    "plt.imshow(data.mean(0).T)\n",
    "plt.show()"
   ]
  },
  {
   "cell_type": "code",
   "execution_count": 22,
   "metadata": {},
   "outputs": [],
   "source": [
    "# save the simulation as an HDF5 image stack\n",
    "# put the parameters inside for safe keeping :)\n",
    "\n",
    "f = h5py.File('bot_quarter_circle_sigma%.2f_noise.h5' % sigma, 'w')\n",
    "\n",
    "f['data'] = data\n",
    "\n",
    "f['r']     = np.array(rs)\n",
    "f['theta'] = np.array(thetas)\n",
    "f['I']     = np.array(Is)\n",
    "\n",
    "f['params/a']       = a\n",
    "f['params/mu']      = mu\n",
    "f['params/sigma']   = sigma\n",
    "f['params/K']       = K\n",
    "f['params/p']       = p\n",
    "f['params/epsilon'] = epsilon\n",
    "\n",
    "f.close()"
   ]
  },
  {
   "cell_type": "markdown",
   "metadata": {},
   "source": [
    "For a second toy model, we break the orthogonality of $r$ and $\\theta$ by introducing a dependency,\n",
    "\\begin{align}\n",
    "%\n",
    "    \\theta &\\sim \\mathrm{Unif}[0, 2 \\pi] \\\\\n",
    "    r &\\sim \\mathcal{N}( \\mu \\sqrt{ \\cos^2 \\theta + \\frac{1}{2} \\sin^2 \\theta}, \\sigma^2 ) \\\\\n",
    "    I &\\sim \\mathrm{Cat}(K, p)\n",
    "%\n",
    "\\end{align}\n",
    "Now, the radius changes as a function of the angle. This means that the resulting distribution of the cube is elliptical. "
   ]
  },
  {
   "cell_type": "code",
   "execution_count": 112,
   "metadata": {},
   "outputs": [],
   "source": [
    "# model parameters are the same as before"
   ]
  },
  {
   "cell_type": "code",
   "execution_count": 14,
   "metadata": {},
   "outputs": [],
   "source": [
    "# generate some images\n",
    "n_samples = 25000\n",
    "sigma     = 2.0\n",
    "skew      = 0.66\n",
    "\n",
    "data = np.zeros((n_samples,) + field_shape)\n",
    "\n",
    "thetas = []\n",
    "rs     = []\n",
    "Is     = []\n",
    "\n",
    "for s in range(n_samples):\n",
    "    \n",
    "    # draw from our distributions\n",
    "    theta = np.random.uniform(0, 2.0*np.pi)\n",
    "    mu_s  = 10.0 * (np.sqrt((1-skew) * np.cos(theta)**2 + (1+skew) * np.sin(theta)**2) - 1)\n",
    "    r     = np.random.randn(1)[0] * sigma + mu_s\n",
    "    I     = np.random.choice(K, p=p)\n",
    "    \n",
    "    rs.append(r)\n",
    "    thetas.append(theta)\n",
    "    Is.append(I)\n",
    "    \n",
    "    # compute the center pixel of the patch\n",
    "    data[s] = rototrans(base_object * I, r, theta)\n",
    "    \n",
    "    # add noise\n",
    "    data[s] += epsilon * np.random.randn(*field_shape)"
   ]
  },
  {
   "cell_type": "code",
   "execution_count": 15,
   "metadata": {},
   "outputs": [
    {
     "data": {
      "image/png": "[encoded data removed]",
      "text/plain": [
       "<Figure size 432x288 with 2 Axes>"
      ]
     },
     "metadata": {
      "needs_background": "light"
     },
     "output_type": "display_data"
    },
    {
     "data": {
      "image/png": "[encoded data removed]",
      "text/plain": [
       "<Figure size 432x288 with 1 Axes>"
      ]
     },
     "metadata": {
      "needs_background": "light"
     },
     "output_type": "display_data"
    }
   ],
   "source": [
    "plt.figure()\n",
    "plt.subplot(121)\n",
    "plt.imshow(data[0])\n",
    "plt.subplot(122)\n",
    "plt.imshow(data.mean(0).T)\n",
    "plt.show()\n",
    "\n",
    "plt.figure()\n",
    "plt.scatter(thetas, rs)\n",
    "plt.show()"
   ]
  },
  {
   "cell_type": "code",
   "execution_count": 16,
   "metadata": {},
   "outputs": [],
   "source": [
    "# save the simulation as an HDF5 image stack\n",
    "# put the parameters inside for safe keeping :)\n",
    "\n",
    "f = h5py.File('bot_ellipse_sigma%.2f.h5' % sigma, 'w')\n",
    "\n",
    "f['data'] = data\n",
    "\n",
    "f['r']     = np.array(rs)\n",
    "f['theta'] = np.array(thetas)\n",
    "f['I']     = np.array(Is)\n",
    "\n",
    "f['params/a']       = a\n",
    "f['params/mu']      = mu\n",
    "f['params/sigma']   = sigma\n",
    "f['params/K']       = K\n",
    "f['params/p']       = p\n",
    "f['params/epsilon'] = epsilon\n",
    "\n",
    "f.close()"
   ]
  },
  {
   "cell_type": "code",
   "execution_count": null,
   "metadata": {},
   "outputs": [],
   "source": []
  }
 ],
 "metadata": {
  "kernelspec": {
   "display_name": "Python 3",
   "language": "python",
   "name": "python3"
  },
  "language_info": {
   "codemirror_mode": {
    "name": "ipython",
    "version": 3
   },
   "file_extension": ".py",
   "mimetype": "text/x-python",
   "name": "python",
   "nbconvert_exporter": "python",
   "pygments_lexer": "ipython3",
   "version": "3.7.3"
  }
 },
 "nbformat": 4,
 "nbformat_minor": 2
}
